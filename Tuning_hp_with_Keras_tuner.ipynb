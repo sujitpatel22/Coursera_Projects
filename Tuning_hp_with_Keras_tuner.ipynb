{
  "nbformat": 4,
  "nbformat_minor": 0,
  "metadata": {
    "colab": {
      "provenance": []
    },
    "kernelspec": {
      "name": "python3",
      "display_name": "Python 3"
    },
    "language_info": {
      "name": "python"
    }
  },
  "cells": [
    {
      "cell_type": "code",
      "execution_count": null,
      "metadata": {
        "id": "Cnk6MBTGR6Z0"
      },
      "outputs": [],
      "source": [
        "!pip install keras-tuner"
      ]
    },
    {
      "cell_type": "code",
      "source": [
        "import tensorflow as tf\n",
        "import kerastuner as kt\n",
        "import numpy as np\n",
        "import matplotlib.pyplot as plt\n",
        "\n",
        "tf.__version__"
      ],
      "metadata": {
        "id": "ilaGVzLbR89-"
      },
      "execution_count": null,
      "outputs": []
    },
    {
      "cell_type": "code",
      "source": [
        "(x_train, y_train), (x_test, y_test) = tf.keras.datasets.fashion_mnist.load_data()"
      ],
      "metadata": {
        "id": "epMnaAqRSJ79"
      },
      "execution_count": null,
      "outputs": []
    },
    {
      "cell_type": "code",
      "source": [
        "x_train.shape, x_test.shape\n",
        "plt.imshow(x_train[0])\n",
        "print(y_train[0])"
      ],
      "metadata": {
        "id": "8EddLPAkSUo6"
      },
      "execution_count": null,
      "outputs": []
    },
    {
      "cell_type": "code",
      "source": [
        "def create_model(hp):\n",
        "  num_hidden_layers = 1\n",
        "  num_units = 128\n",
        "  dropout_rate = 0.2\n",
        "  learning_rate = 0.01\n",
        "\n",
        "  if hp:\n",
        "    num_hidden_layers = hp.Choice('num_hidden_layers', values = [1,2,3])\n",
        "    num_units = hp.Choice('num_units', values = [32,64,128])\n",
        "    dropout_rate = hp.Float('dropout_rate', min_value = 0.1, max_value = 0.5)\n",
        "    learning_rate = hp.Float('learning_rate', min_value = 0.0001, max_value = 0.01)\n",
        "\n",
        "  model = tf.keras.Sequential()\n",
        "  model.add(tf.keras.layers.Flatten(input_shape=(28, 28)))\n",
        "  model.add(tf.keras.layers.Lambda(lambda x: x/255.0))\n",
        "  for i in range(num_hidden_layers):\n",
        "    model.add(tf.keras.layers.Dense(num_units, activation='relu'))\n",
        "    model.add(tf.keras.layers.Dropout(dropout_rate))\n",
        "  model.add(tf.keras.layers.Dense(10, activation='softmax'))\n",
        "\n",
        "  model.compile(optimizer=tf.keras.optimizers.Adam(learning_rate = learning_rate),\n",
        "                loss='sparse_categorical_crossentropy',\n",
        "                metrics=['accuracy'])\n",
        "  return model"
      ],
      "metadata": {
        "id": "rA9zikF4SZkZ"
      },
      "execution_count": null,
      "outputs": []
    },
    {
      "cell_type": "code",
      "source": [
        "model = create_model(None)\n",
        "model.summary()"
      ],
      "metadata": {
        "id": "M4VL4A7-SjnB"
      },
      "execution_count": null,
      "outputs": []
    },
    {
      "cell_type": "code",
      "source": [
        "class CustomTuner(kt.tuners.BayesianOptimization):\n",
        "  def run_trial(self, trial, *args, **kwargs):\n",
        "    kwargs['batch_size'] = trial.hyperparameters.Int('batch_size', 32, 64, step = 32)\n",
        "    super(CustomTuner, self).run_trial(trial, *args, **kwargs)\n",
        "    return self.results[-1]\n",
        "\n",
        "tuner = CustomTuner(\n",
        "      create_model,\n",
        "      objective = 'val_accuracy',\n",
        "      max_trials = 20,\n",
        "      directory = 'logs',\n",
        "      project_name = 'fasion_mnist',\n",
        "      overwrite = True\n",
        ")"
      ],
      "metadata": {
        "id": "ApoVCSPtTpy2"
      },
      "execution_count": null,
      "outputs": []
    },
    {
      "cell_type": "code",
      "source": [
        "tuner.search_space_summary()"
      ],
      "metadata": {
        "id": "ToD6ziyhWuwY"
      },
      "execution_count": null,
      "outputs": []
    },
    {
      "cell_type": "code",
      "source": [
        "tuner.search(\n",
        "    x_train, y_train,\n",
        "    validation_data = (x_test, y_test),\n",
        "    epochs = 5, verbose = False\n",
        ")"
      ],
      "metadata": {
        "id": "UojDkDrpXGBX"
      },
      "execution_count": null,
      "outputs": []
    },
    {
      "cell_type": "code",
      "source": [
        "model = tuner.get_best_models(num_models = 1)[0]\n",
        "model.summary()"
      ],
      "metadata": {
        "id": "m4JYREIZZ2L-"
      },
      "execution_count": null,
      "outputs": []
    },
    {
      "cell_type": "code",
      "source": [
        "history = model.fit(x_train, y_train,\n",
        "          validation_data = (x_test, y_test),\n",
        "          epochs = 20, batch_size = 128,\n",
        "          callbacks = [tf.keras.callbacks.EarlyStopping(monitor = 'val_accuracy, patience = 3')])"
      ],
      "metadata": {
        "id": "BIPboGheXrDr"
      },
      "execution_count": null,
      "outputs": []
    },
    {
      "cell_type": "code",
      "source": [],
      "metadata": {
        "id": "0axNUby4apef"
      },
      "execution_count": null,
      "outputs": []
    }
  ]
}