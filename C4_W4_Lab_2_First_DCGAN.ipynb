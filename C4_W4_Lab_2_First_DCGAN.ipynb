{
  "cells": [
    {
      "cell_type": "markdown",
      "metadata": {
        "id": "oYWfJQBY5Ufy"
      },
      "source": [
        "# Ungraded Lab: First DCGAN\n",
        "\n",
        "In this lab, you will see a demo of a Deep Convolutional GAN (DCGAN) trained on Fashion MNIST. You'll see architectural differences from the GAN in the first lab and also see the best practices when building this network."
      ]
    },
    {
      "cell_type": "markdown",
      "metadata": {
        "id": "Xu2WWncO6ElL"
      },
      "source": [
        "## Imports"
      ]
    },
    {
      "cell_type": "code",
      "execution_count": null,
      "metadata": {
        "id": "H06EKcnhxLcM"
      },
      "outputs": [],
      "source": [
        "import tensorflow as tf\n",
        "import tensorflow.keras as keras\n",
        "\n",
        "import numpy as np\n",
        "import matplotlib.pyplot as plt\n",
        "from IPython import display"
      ]
    },
    {
      "cell_type": "markdown",
      "metadata": {
        "id": "QWTkli2k6GGd"
      },
      "source": [
        "## Utilities"
      ]
    },
    {
      "cell_type": "code",
      "execution_count": null,
      "metadata": {
        "id": "91DeiLbpxv5_"
      },
      "outputs": [],
      "source": [
        "def plot_results(images, n_cols=None):\n",
        "    '''visualizes fake images'''\n",
        "    display.clear_output(wait=False)\n",
        "\n",
        "    n_cols = n_cols or len(images)\n",
        "    n_rows = (len(images) - 1) // n_cols + 1\n",
        "\n",
        "    if images.shape[-1] == 1:\n",
        "        images = np.squeeze(images, axis=-1)\n",
        "\n",
        "    plt.figure(figsize=(n_cols, n_rows))\n",
        "\n",
        "    for index, image in enumerate(images):\n",
        "        plt.subplot(n_rows, n_cols, index + 1)\n",
        "        plt.imshow(image, cmap=\"binary\")\n",
        "        plt.axis(\"off\")"
      ]
    },
    {
      "cell_type": "markdown",
      "metadata": {
        "id": "JXjx6s2z6IiY"
      },
      "source": [
        "## Download and Prepare the Dataset\n",
        "\n",
        "You will use the [Fashion MNIST](https://github.com/zalandoresearch/fashion-mnist) dataset for this exercise. As before, you will only need to create batches of the training images. The preprocessing steps are also shown below."
      ]
    },
    {
      "cell_type": "code",
      "execution_count": null,
      "metadata": {
        "id": "jl5uWcOMxg8A"
      },
      "outputs": [],
      "source": [
        "# download the training images\n",
        "(X_train, _), _ = keras.datasets.fashion_mnist.load_data()\n",
        "\n",
        "# normalize pixel values\n",
        "X_train = X_train[:10000].astype(np.float32) / 255\n",
        "\n",
        "# reshape and rescale\n",
        "X_train = X_train.reshape(-1, 28, 28, 1) * 2. - 1.\n",
        "\n",
        "BATCH_SIZE = 128\n",
        "\n",
        "# create batches of tensors to be fed into the model\n",
        "dataset = tf.data.Dataset.from_tensor_slices(X_train)\n",
        "dataset = dataset.shuffle(1000)\n",
        "dataset = dataset.batch(BATCH_SIZE, drop_remainder=True).prefetch(1)"
      ]
    },
    {
      "cell_type": "markdown",
      "metadata": {
        "id": "GKsQkQun6MYE"
      },
      "source": [
        "## Build the Model"
      ]
    },
    {
      "cell_type": "markdown",
      "metadata": {
        "id": "_4wRwi6BEojs"
      },
      "source": [
        "In DCGANs, convolutional layers are predominantly used to build the generator and discriminator. You will see how the layers are stacked as well as the best practices shown below."
      ]
    },
    {
      "cell_type": "markdown",
      "metadata": {
        "id": "aHfJkWHLGzcC"
      },
      "source": [
        "### Generator\n",
        "\n",
        "For the generator, we take in random noise and eventually transform it to the shape of the Fashion MNIST images. The general steps are:\n",
        "\n",
        "* Feed the input noise to a dense layer.\n",
        "* Reshape the output to have three dimensions. This stands for the (length, width, number of filters).\n",
        "* Perform a deconvolution (with [Conv2DTranspose](https://www.tensorflow.org/api_docs/python/tf/keras/layers/Conv2DTranspose)), reducing the number of filters by half and using a stride of `2`.\n",
        "* The final layer upsamples the features to the size of the training images. In this case 28 x 28 x 1.\n",
        "\n",
        "Notice that batch normalization is performed except for the final deconvolution layer. As best practice, `selu` is the activation used for the intermediate deconvolution while `tanh` is for the output. We printed the model summary so you can see the shapes at each layer.\n",
        "\n"
      ]
    },
    {
      "cell_type": "code",
      "execution_count": null,
      "metadata": {
        "id": "fWnY7jRxfboU"
      },
      "outputs": [],
      "source": [
        "codings_size = 32\n",
        "\n",
        "generator = keras.models.Sequential([\n",
        "    keras.layers.Dense(7 * 7 * 128, input_shape=[codings_size]),\n",
        "    keras.layers.Reshape([7, 7, 128]),\n",
        "    keras.layers.BatchNormalization(),\n",
        "    keras.layers.Conv2DTranspose(64, kernel_size=5, strides=2, padding=\"SAME\",\n",
        "                                 activation=\"selu\"),\n",
        "    keras.layers.BatchNormalization(),\n",
        "    keras.layers.Conv2DTranspose(1, kernel_size=5, strides=2, padding=\"SAME\",\n",
        "                                 activation=\"tanh\"),\n",
        "])\n",
        "\n",
        "generator.summary()"
      ]
    },
    {
      "cell_type": "markdown",
      "metadata": {
        "id": "08aoWcgALISR"
      },
      "source": [
        "As a sanity check, let's see the fake images generated by the untrained generator and see the dimensions of the output."
      ]
    },
    {
      "cell_type": "code",
      "execution_count": null,
      "metadata": {
        "id": "DZ7KPXTp_49h"
      },
      "outputs": [],
      "source": [
        "# generate a batch of noise input (batch size = 16)\n",
        "test_noise = tf.random.normal([16, codings_size])\n",
        "\n",
        "# feed the batch to the untrained generator\n",
        "test_image = generator(test_noise)\n",
        "\n",
        "# visualize sample output\n",
        "plot_results(test_image, n_cols=4)\n",
        "\n",
        "print(f'shape of the generated batch: {test_image.shape}')"
      ]
    },
    {
      "cell_type": "markdown",
      "metadata": {
        "id": "6ayaQOu0Ll1M"
      },
      "source": [
        "### Discriminator\n",
        "\n",
        "The discriminator will use strided convolutions to reduce the dimensionality of the input images. As best practice, these are activated by [LeakyRELU](https://keras.io/api/layers/activation_layers/leaky_relu/). The output features will be flattened and fed to a 1-unit dense layer activated by `sigmoid`."
      ]
    },
    {
      "cell_type": "code",
      "execution_count": null,
      "metadata": {
        "id": "GRpxEFCQ_J0x"
      },
      "outputs": [],
      "source": [
        "discriminator = keras.models.Sequential([\n",
        "    keras.layers.Conv2D(64, kernel_size=5, strides=2, padding=\"SAME\",\n",
        "                        activation=keras.layers.LeakyReLU(0.2),\n",
        "                        input_shape=[28, 28, 1]),\n",
        "    keras.layers.Dropout(0.4),\n",
        "    keras.layers.Conv2D(128, kernel_size=5, strides=2, padding=\"SAME\",\n",
        "                        activation=keras.layers.LeakyReLU(0.2)),\n",
        "    keras.layers.Dropout(0.4),\n",
        "    keras.layers.Flatten(),\n",
        "    keras.layers.Dense(1, activation=\"sigmoid\")\n",
        "])\n",
        "\n",
        "discriminator.summary()"
      ]
    },
    {
      "cell_type": "markdown",
      "metadata": {
        "id": "SqJIlaNUMwNT"
      },
      "source": [
        "As before, you will append these two subnetwork to build the complete GAN."
      ]
    },
    {
      "cell_type": "code",
      "execution_count": null,
      "metadata": {
        "id": "qIuauNaX_LUd"
      },
      "outputs": [],
      "source": [
        "gan = keras.models.Sequential([generator, discriminator])"
      ]
    },
    {
      "cell_type": "markdown",
      "metadata": {
        "id": "gd8o7Orz6jS7"
      },
      "source": [
        "## Configure the Model for training\n",
        "\n",
        "The discriminator and GAN will still be classifying fake and real images so you will use the same settings as before."
      ]
    },
    {
      "cell_type": "code",
      "execution_count": null,
      "metadata": {
        "id": "pOy61losflZ-"
      },
      "outputs": [],
      "source": [
        "discriminator.compile(loss=\"binary_crossentropy\", optimizer=\"rmsprop\")\n",
        "discriminator.trainable = False\n",
        "gan.compile(loss=\"binary_crossentropy\", optimizer=\"rmsprop\")"
      ]
    },
    {
      "cell_type": "markdown",
      "metadata": {
        "id": "w5XWApPx6PqB"
      },
      "source": [
        "## Train the Model\n",
        "\n",
        "The training loop will also be identical to the previous one you built. Run the cells below and observe how the fake images become more convincing as the training progresses."
      ]
    },
    {
      "cell_type": "code",
      "execution_count": null,
      "metadata": {
        "id": "cXWf5qn5xCeQ"
      },
      "outputs": [],
      "source": [
        "def train_gan(gan, dataset, random_normal_dimensions, n_epochs=50):\n",
        "    \"\"\" Defines the two-phase training loop of the GAN\n",
        "    Args:\n",
        "      gan -- the GAN model which has the generator and discriminator\n",
        "      dataset -- the training set of real images\n",
        "      random_normal_dimensions -- dimensionality of the input to the generator\n",
        "      n_epochs -- number of epochs\n",
        "    \"\"\"\n",
        "    generator, discriminator = gan.layers\n",
        "    for epoch in range(n_epochs):\n",
        "        print(\"Epoch {}/{}\".format(epoch + 1, n_epochs))\n",
        "        for real_images in dataset:\n",
        "            # infer batch size from the training batch\n",
        "            batch_size = real_images.shape[0]\n",
        "\n",
        "            # Train the discriminator - PHASE 1\n",
        "            # create the noise\n",
        "            noise = tf.random.normal(shape=[batch_size, random_normal_dimensions])\n",
        "\n",
        "            # use the noise to generate fake images\n",
        "            fake_images = generator(noise)\n",
        "\n",
        "            # create a list by concatenating the fake images with the real ones\n",
        "            mixed_images = tf.concat([fake_images, real_images], axis=0)\n",
        "\n",
        "            # Create the labels for the discriminator\n",
        "            # 0 for the fake images\n",
        "            # 1 for the real images\n",
        "            discriminator_labels = tf.constant([[0.]] * batch_size + [[1.]] * batch_size)\n",
        "\n",
        "            # ensure that the discriminator is trainable\n",
        "            discriminator.trainable = True\n",
        "\n",
        "            # use train_on_batch to train the discriminator with the mixed images and the discriminator labels\n",
        "            discriminator.train_on_batch(mixed_images, discriminator_labels)\n",
        "\n",
        "            # Train the generator - PHASE 2\n",
        "            # create a batch of noise input to feed to the GAN\n",
        "            noise = tf.random.normal(shape=[batch_size, random_normal_dimensions])\n",
        "\n",
        "            # label all generated images to be \"real\"\n",
        "            generator_labels = tf.constant([[1.]] * batch_size)\n",
        "\n",
        "            # freeze the discriminator\n",
        "            discriminator.trainable = False\n",
        "\n",
        "            # train the GAN on the noise with the labels all set to be true\n",
        "            gan.train_on_batch(noise, generator_labels)\n",
        "\n",
        "        # plot the fake images used to train the discriminator\n",
        "        plot_results(fake_images, 16)\n",
        "        plt.show()"
      ]
    },
    {
      "cell_type": "code",
      "execution_count": null,
      "metadata": {
        "id": "eKsXGD_NfqPJ"
      },
      "outputs": [],
      "source": [
        "train_gan(gan, dataset, codings_size, 100)"
      ]
    },
    {
      "cell_type": "code",
      "execution_count": null,
      "metadata": {},
      "outputs": [],
      "source": [
        "generator.save('trained_dcgan_generator')"
      ]
    },
    {
      "cell_type": "code",
      "execution_count": null,
      "metadata": {},
      "outputs": [],
      "source": [
        "model = keras.models.load_model('./trained_dcgan_generator')"
      ]
    },
    {
      "cell_type": "code",
      "execution_count": null,
      "metadata": {},
      "outputs": [],
      "source": [
        "# Assume generator is a pre-trained GAN generator model\n",
        "# z_dim is the dimension of the latent space\n",
        "\n",
        "def generate_image(generator, z):\n",
        "    img = model.predict(z)\n",
        "    img = (img + 1) / 2.0  # Rescale to [0, 1]\n",
        "    return img\n",
        "\n",
        "# Sample two random latent vectors\n",
        "z_dim = 32\n",
        "z1 = np.random.randn(1, z_dim)\n",
        "z2 = np.random.randn(1, z_dim)\n",
        "\n",
        "# Interpolation between z1 and z2\n",
        "n_interpolations = 10\n",
        "alphas = np.linspace(0, 1, n_interpolations)\n",
        "interpolated_images = []\n",
        "\n",
        "for alpha in alphas:\n",
        "    z_interpolated = alpha * z1 + (1 - alpha) * z2\n",
        "    interpolated_img = generate_image(model, z_interpolated)\n",
        "    interpolated_images.append(interpolated_img)\n",
        "\n",
        "# Plot the interpolated images\n",
        "plt.figure(figsize=(20, 4))\n",
        "for i, img in enumerate(interpolated_images):\n",
        "    plt.subplot(1, n_interpolations, i+1)\n",
        "    plt.imshow(img.reshape(28, 28), cmap='gray')\n",
        "    plt.axis('off')\n",
        "plt.show()\n",
        "\n",
        "# Example of latent vector arithmetic\n",
        "# Let's assume z_smile and z_glasses are known latent vectors for \"smiling\" and \"wearing glasses\" attributes\n",
        "z_smile = np.random.randn(1, z_dim)\n",
        "z_glasses = np.random.randn(1, z_dim)\n",
        "\n",
        "# Generate base image\n",
        "base_img = generate_image(model, z1)\n",
        "\n",
        "# Generate images with added features\n",
        "smile_img = generate_image(model, z1 + z_smile)\n",
        "glasses_img = generate_image(model, z1 + z_glasses)\n",
        "smile_glasses_img = generate_image(model, z1 + z_smile + z_glasses)\n",
        "\n",
        "# Plot the images\n",
        "plt.figure(figsize=(15, 3))\n",
        "plt.subplot(1, 4, 1)\n",
        "plt.title('Base Image')\n",
        "plt.imshow(base_img.reshape(28, 28), cmap='gray')\n",
        "plt.axis('off')\n",
        "\n",
        "plt.subplot(1, 4, 2)\n",
        "plt.title('Smiling')\n",
        "plt.imshow(smile_img.reshape(28, 28), cmap='gray')\n",
        "plt.axis('off')\n",
        "\n",
        "plt.subplot(1, 4, 3)\n",
        "plt.title('Wearing Glasses')\n",
        "plt.imshow(glasses_img.reshape(28, 28), cmap='gray')\n",
        "plt.axis('off')\n",
        "\n",
        "plt.subplot(1, 4, 4)\n",
        "plt.title('Smiling + Glasses')\n",
        "plt.imshow(smile_glasses_img.reshape(28, 28), cmap='gray')\n",
        "plt.axis('off')\n",
        "\n",
        "plt.show()\n"
      ]
    },
    {
      "cell_type": "code",
      "execution_count": null,
      "metadata": {},
      "outputs": [],
      "source": [
        "\n",
        "def plot_latent_traversal(model, z, z_dim, traversal_range=(-3, 3), steps=10):\n",
        "    \"\"\"Plot latent space traversal.\"\"\"\n",
        "    fig, axes = plt.subplots(nrows=z_dim, ncols=steps, figsize=(15, 15))\n",
        "    traversal_values = np.linspace(traversal_range[0], traversal_range[1], steps)\n",
        "\n",
        "    for dim in range(z_dim):\n",
        "        z_traversal = np.copy(z)\n",
        "        for i, val in enumerate(traversal_values):\n",
        "            z_traversal[0, dim] = val\n",
        "            img = model.predict(z_traversal)\n",
        "            img = (img + 1) / 2.0  # Rescale to [0, 1]\n",
        "            axes[dim, i].imshow(img.reshape(28, 28), cmap='gray')\n",
        "            axes[dim, i].axis('off')\n",
        "        axes[dim, 0].set_ylabel(f\"Dim {dim}\")\n",
        "\n",
        "    plt.tight_layout()\n",
        "    plt.show()\n",
        "\n",
        "# Sample a random latent vector\n",
        "z_dim = 32\n",
        "z = np.random.randn(1, z_dim)\n",
        "\n",
        "# Plot latent traversal\n",
        "plot_latent_traversal(model, z, z_dim)\n"
      ]
    },
    {
      "cell_type": "code",
      "execution_count": null,
      "metadata": {},
      "outputs": [],
      "source": [
        "\n",
        "def generate_and_plot(model, z_vectors, titles=None):\n",
        "    plt.figure(figsize=(15, 3))\n",
        "    for i, z in enumerate(z_vectors):\n",
        "        img = model.predict(z.reshape(1, -1))\n",
        "        img = (img + 1) / 2.0  # Rescale to [0, 1]\n",
        "        plt.subplot(1, len(z_vectors), i + 1)\n",
        "        plt.imshow(img.reshape(28, 28), cmap='gray')\n",
        "        plt.axis('off')\n",
        "        if titles:\n",
        "            plt.title(titles[i])\n",
        "    plt.show()\n",
        "\n",
        "# Sample random latent vectors\n",
        "z_dim = 32\n",
        "z_glasses = np.random.randn(1, z_dim)  # Vector for image with glasses\n",
        "z_no_glasses = np.random.randn(1, z_dim)  # Vector for image without glasses\n",
        "\n",
        "# Generate and plot the original images\n",
        "generate_and_plot(model, [z_glasses, z_no_glasses], titles=['With Glasses', 'Without Glasses'])\n",
        "\n",
        "# Perform latent space arithmetic to find the \"glasses\" direction\n",
        "z_glasses_direction = z_glasses - z_no_glasses\n",
        "z_new = z_no_glasses + 0.5 * z_glasses_direction  # New vector with added glasses feature\n",
        "\n",
        "# Generate and plot the new image\n",
        "generate_and_plot(model, [z_new], titles=['Added Glasses Feature'])\n"
      ]
    },
    {
      "cell_type": "code",
      "execution_count": null,
      "metadata": {},
      "outputs": [],
      "source": []
    }
  ],
  "metadata": {
    "accelerator": "GPU",
    "colab": {
      "private_outputs": true,
      "provenance": []
    },
    "kernelspec": {
      "display_name": "Python 3",
      "name": "python3"
    },
    "language_info": {
      "codemirror_mode": {
        "name": "ipython",
        "version": 3
      },
      "file_extension": ".py",
      "mimetype": "text/x-python",
      "name": "python",
      "nbconvert_exporter": "python",
      "pygments_lexer": "ipython3",
      "version": "3.11.7"
    }
  },
  "nbformat": 4,
  "nbformat_minor": 0
}
